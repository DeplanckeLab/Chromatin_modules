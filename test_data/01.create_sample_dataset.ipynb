{
 "cells": [
  {
   "cell_type": "code",
   "execution_count": 1,
   "id": "e43f5f08",
   "metadata": {},
   "outputs": [],
   "source": [
    "import os\n",
    "import pandas as pd"
   ]
  },
  {
   "cell_type": "code",
   "execution_count": 2,
   "id": "a4f055f4",
   "metadata": {},
   "outputs": [],
   "source": [
    "def reorder_columns_and_save_df(df, columns_list, output_path, file_name):\n",
    "    if 'chr' not in df.loc[:, '#Chr']:\n",
    "        df.loc[:, '#Chr'] = 'chr' + df.loc[:, '#Chr'].astype(str)\n",
    "    df.loc[\n",
    "        df.loc[:, '#Chr'].isin(['chr21', 'chr22', 21, 22, '21', '22']),\n",
    "        columns_list\n",
    "    ].to_csv(\n",
    "        os.path.join(output_path, file_name),\n",
    "        sep='\\t',\n",
    "        index=False,\n",
    "        header=True\n",
    "    )"
   ]
  },
  {
   "cell_type": "code",
   "execution_count": 3,
   "id": "24104a62",
   "metadata": {},
   "outputs": [],
   "source": [
    "dataset = 'LCL'"
   ]
  },
  {
   "cell_type": "code",
   "execution_count": 4,
   "id": "24609317",
   "metadata": {},
   "outputs": [
    {
     "name": "stderr",
     "output_type": "stream",
     "text": [
      "/tmp/ipykernel_3312731/3595873352.py:7: DtypeWarning: Columns (0) have mixed types. Specify dtype option on import or set low_memory=False.\n",
      "  count_mtx_k4me1 = pd.read_csv(\n",
      "/tmp/ipykernel_3312731/3595873352.py:21: DtypeWarning: Columns (0) have mixed types. Specify dtype option on import or set low_memory=False.\n",
      "  count_mtx_k27ac = pd.read_csv(\n"
     ]
    }
   ],
   "source": [
    "count_mtx_path = os.path.join(\n",
    "    '/home/pushkare/NAS1/vanmierl/CRDs_commonpeaksets_matrices/normalized_matrices',\n",
    "    'PCs_regressed',\n",
    "    dataset\n",
    ")\n",
    "\n",
    "count_mtx_k4me1 = pd.read_csv(\n",
    "    os.path.join(\n",
    "        count_mtx_path,\n",
    "        '_'.join(\n",
    "            [\n",
    "                'H3K4me1',\n",
    "                dataset,\n",
    "                'RPKMnorm_regressed_qqnorm_forCRD.bed.gz'\n",
    "            ]\n",
    "        )\n",
    "    ),\n",
    "    sep='\\t'\n",
    ")\n",
    "\n",
    "count_mtx_k27ac = pd.read_csv(\n",
    "    os.path.join(\n",
    "        count_mtx_path,\n",
    "        '_'.join(\n",
    "            [\n",
    "                'H3K27ac',\n",
    "                dataset,\n",
    "                'RPKMnorm_regressed_qqnorm_forCRD.bed.gz'\n",
    "            ]\n",
    "        )\n",
    "    ),\n",
    "    sep='\\t'\n",
    ")"
   ]
  },
  {
   "cell_type": "code",
   "execution_count": 5,
   "id": "5d9444d9",
   "metadata": {},
   "outputs": [],
   "source": [
    "common_columns = sorted(set(count_mtx_k4me1.columns[6:]).intersection(set(count_mtx_k27ac.columns[6:])))\n",
    "peak_info_cols = list(count_mtx_k4me1.columns[:6])"
   ]
  },
  {
   "cell_type": "code",
   "execution_count": 6,
   "id": "b381e2cf",
   "metadata": {},
   "outputs": [],
   "source": [
    "output_path = '/data/pushkare/computational_paper/GITHUB/test_data'"
   ]
  },
  {
   "cell_type": "code",
   "execution_count": 7,
   "id": "a02f92e9",
   "metadata": {},
   "outputs": [],
   "source": [
    "reorder_columns_and_save_df(\n",
    "    count_mtx_k4me1,\n",
    "    peak_info_cols + common_columns,\n",
    "    output_path,\n",
    "    file_name='H3K4me1_chr21_chr22.bed'\n",
    ")"
   ]
  },
  {
   "cell_type": "code",
   "execution_count": 8,
   "id": "1ae31703",
   "metadata": {},
   "outputs": [],
   "source": [
    "reorder_columns_and_save_df(\n",
    "    count_mtx_k27ac,\n",
    "    peak_info_cols + common_columns,\n",
    "    output_path,\n",
    "    file_name='H3K27ac_chr21_chr22.bed'\n",
    ")"
   ]
  },
  {
   "cell_type": "markdown",
   "id": "f01dc4e9",
   "metadata": {},
   "source": [
    "### Extract genotypes for chr21 and chr22"
   ]
  },
  {
   "cell_type": "code",
   "execution_count": 3,
   "id": "e357e715",
   "metadata": {},
   "outputs": [],
   "source": [
    "%%bash\n",
    "bcftools view \\\n",
    "    /data/pushkare/computational_paper/01.mapping_of_chromatin_modules/PHM/all_marks/delaneau_LCL_FIB_final.vcf.gz \\\n",
    "    --regions chr21,chr22 \\\n",
    "    -o /data/pushkare/computational_paper/GITHUB/test_data/LCL_genotypes_chr21_chr22.vcf"
   ]
  },
  {
   "cell_type": "code",
   "execution_count": 4,
   "id": "95c22703",
   "metadata": {},
   "outputs": [],
   "source": [
    "%%bash\n",
    "bgzip /data/pushkare/computational_paper/GITHUB/test_data/LCL_genotypes_chr21_chr22.vcf\n",
    "tabix -p vcf /data/pushkare/computational_paper/GITHUB/test_data/LCL_genotypes_chr21_chr22.vcf.gz"
   ]
  },
  {
   "cell_type": "code",
   "execution_count": 5,
   "id": "5d4fc0d0",
   "metadata": {},
   "outputs": [],
   "source": [
    "%%bash\n",
    "bcftools query \\\n",
    "    -l /data/pushkare/computational_paper/GITHUB/test_data/LCL_genotypes_chr21_chr22.vcf.gz \\\n",
    "    > /data/pushkare/computational_paper/GITHUB/test_data/LCL_genotypes_chr21_chr22_samples.txt"
   ]
  },
  {
   "cell_type": "markdown",
   "id": "d6a9d8b8",
   "metadata": {},
   "source": [
    "### Bgzip and index .bed files for count matrices"
   ]
  },
  {
   "cell_type": "code",
   "execution_count": 6,
   "id": "6de15602",
   "metadata": {},
   "outputs": [],
   "source": [
    "%%bash\n",
    "scp \\\n",
    "    /data/pushkare/computational_paper/GITHUB/test_data/H3K27ac_chr21_chr22.bed \\\n",
    "    /data/pushkare/computational_paper/GITHUB/test_data/gzipped_bed/H3K27ac_chr21_chr22.bed\n",
    "\n",
    "scp \\\n",
    "    /data/pushkare/computational_paper/GITHUB/test_data/H34me1_chr21_chr22.bed \\\n",
    "    /data/pushkare/computational_paper/GITHUB/test_data/gzipped_bed/H3K4me1_chr21_chr22.bed\n",
    "\n",
    "\n",
    "bgzip /data/pushkare/computational_paper/GITHUB/test_data/gzipped_bed/H3K27ac_chr21_chr22.bed\n",
    "tabix -p bed /data/pushkare/computational_paper/GITHUB/test_data/gzipped_bed/H3K27ac_chr21_chr22.bed.gz\n",
    "\n",
    "bgzip /data/pushkare/computational_paper/GITHUB/test_data/gzipped_bed/H3K4me1_chr21_chr22.bed\n",
    "tabix -p bed /data/pushkare/computational_paper/GITHUB/test_data/gzipped_bed/H3K4me1_chr21_chr22.bed.gz"
   ]
  },
  {
   "cell_type": "code",
   "execution_count": null,
   "id": "ea2d04ad",
   "metadata": {},
   "outputs": [],
   "source": []
  }
 ],
 "metadata": {
  "kernelspec": {
   "display_name": "Python 3 (ipykernel)",
   "language": "python",
   "name": "python3"
  },
  "language_info": {
   "codemirror_mode": {
    "name": "ipython",
    "version": 3
   },
   "file_extension": ".py",
   "mimetype": "text/x-python",
   "name": "python",
   "nbconvert_exporter": "python",
   "pygments_lexer": "ipython3",
   "version": "3.9.5"
  }
 },
 "nbformat": 4,
 "nbformat_minor": 5
}
