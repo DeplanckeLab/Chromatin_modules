{
 "cells": [
  {
   "cell_type": "code",
   "execution_count": 1,
   "metadata": {},
   "outputs": [],
   "source": [
    "import numpy as np\n",
    "import os\n",
    "import pandas as pd"
   ]
  },
  {
   "cell_type": "code",
   "execution_count": 2,
   "metadata": {},
   "outputs": [],
   "source": [
    "core_path = \"/data/pushkare/Chromatin_modules\"\n",
    "method = \"phm\"\n",
    "dataset = \"test_data\"\n",
    "chromosomes = [\"chr22\"]\n",
    "threshold = 0.8"
   ]
  },
  {
   "cell_type": "code",
   "execution_count": 3,
   "metadata": {},
   "outputs": [],
   "source": [
    "path_to_output_data = os.path.join(core_path, \"3.simulate_CMs\", \"input\", method)\n",
    "if not os.path.exists(path_to_output_data):\n",
    "    os.makedirs(path_to_output_data)"
   ]
  },
  {
   "cell_type": "code",
   "execution_count": 4,
   "metadata": {},
   "outputs": [],
   "source": [
    "single_peaks_list = []\n",
    "for chromosome in chromosomes:\n",
    "    pp_hypotheses = pd.read_csv(\n",
    "        os.path.join(\n",
    "            core_path,\n",
    "            \"1.mapped_CMs\",\n",
    "            method,\n",
    "            chromosome,\n",
    "            \"phm_output\",\n",
    "            \"pp.gz\",\n",
    "        ),\n",
    "        sep=\"\\t\",\n",
    "        header=None,\n",
    "    )\n",
    "    pp_hypotheses.columns = [\n",
    "        \"peak_1\",\n",
    "        \"peak_2\",\n",
    "        \"H_0\",\n",
    "        \"H_11\",\n",
    "        \"H_12\",\n",
    "        \"linkage\",\n",
    "        \"pleiotropy\",\n",
    "        \"causality_1\",\n",
    "        \"causality_2\",\n",
    "    ]\n",
    "    pp_hypotheses = pp_hypotheses.set_index([\"peak_1\", \"peak_2\"])\n",
    "    pp_hypotheses_filt = pp_hypotheses[pp_hypotheses > np.log(threshold)]\n",
    "    h11_peaks = set(\n",
    "        pp_hypotheses_filt.loc[:, [\"H_11\"]]\n",
    "        .dropna(how=\"all\")\n",
    "        .reset_index()\n",
    "        .loc[:, \"peak_1\"]\n",
    "    )\n",
    "    h12_peaks = set(\n",
    "        pp_hypotheses_filt.loc[:, [\"H_12\"]]\n",
    "        .dropna(how=\"all\")\n",
    "        .reset_index()\n",
    "        .loc[:, \"peak_2\"]\n",
    "    )\n",
    "    linkage_pleiotropy_peaks = set.union(\n",
    "        *[\n",
    "            set(peak_idx)\n",
    "            for peak_idx in pp_hypotheses_filt.loc[:, [\"linkage\", \"pleiotropy\"]]\n",
    "            .dropna(how=\"all\")\n",
    "            .index.to_list()\n",
    "        ]\n",
    "    )\n",
    "    single_peaks_with_qtl = h11_peaks.union(h12_peaks).union(linkage_pleiotropy_peaks)\n",
    "\n",
    "    peak_ids = pd.read_csv(\n",
    "        os.path.join(\n",
    "            core_path,\n",
    "            \"1.mapped_CMs\",\n",
    "            method,\n",
    "            chromosome,\n",
    "            chromosome + \"_peak_coordinates.bed.gz\",\n",
    "        ),\n",
    "        sep=\"\\t\",\n",
    "        header=None,\n",
    "    )\n",
    "    peak_ids.loc[:, \"peak_id\"] = np.arange(1, peak_ids.shape[0] + 1)\n",
    "    peak_ids = peak_ids.loc[peak_ids.loc[:, \"peak_id\"].isin(single_peaks_with_qtl), :]\n",
    "    if not \"chr\" in str(peak_ids.iloc[0, 0]):\n",
    "        peak_ids.iloc[:, 0] = \"chr\" + peak_ids.iloc[:, 0].astype(str)\n",
    "\n",
    "    peak_ids.loc[:, \"full_pid\"] = (\n",
    "        peak_ids.iloc[:, 3]\n",
    "        + \":\"\n",
    "        + peak_ids.iloc[:, 0]\n",
    "        + \":\"\n",
    "        + peak_ids.iloc[:, 1].astype(str)\n",
    "        + \":\"\n",
    "        + peak_ids.iloc[:, 2].astype(str)\n",
    "    )\n",
    "\n",
    "    single_peaks_list.append(peak_ids.loc[:, [0, 1, 2, 3, \"full_pid\"]])\n",
    "single_peaks_df = pd.concat(single_peaks_list)\n",
    "single_peaks_df.to_csv(\n",
    "    os.path.join(path_to_output_data, dataset + \"_single_peak_ids.txt\"),\n",
    "    sep=\"\\t\",\n",
    "    index=False,\n",
    "    header=False,\n",
    ")"
   ]
  },
  {
   "cell_type": "code",
   "execution_count": null,
   "metadata": {},
   "outputs": [],
   "source": []
  }
 ],
 "metadata": {
  "kernelspec": {
   "display_name": "usr",
   "language": "python",
   "name": "python3"
  },
  "language_info": {
   "codemirror_mode": {
    "name": "ipython",
    "version": 3
   },
   "file_extension": ".py",
   "mimetype": "text/x-python",
   "name": "python",
   "nbconvert_exporter": "python",
   "pygments_lexer": "ipython3",
   "version": "3.11.7"
  }
 },
 "nbformat": 4,
 "nbformat_minor": 2
}
