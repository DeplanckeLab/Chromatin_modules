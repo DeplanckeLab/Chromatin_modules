{
 "cells": [
  {
   "cell_type": "code",
   "execution_count": 1,
   "id": "c1ddb379",
   "metadata": {},
   "outputs": [],
   "source": [
    "import pandas as pd\n",
    "import numpy as np\n",
    "import os"
   ]
  },
  {
   "cell_type": "code",
   "execution_count": 2,
   "id": "27b5bbc5",
   "metadata": {},
   "outputs": [],
   "source": [
    "method = \"phm\"\n",
    "dataset = \"test_data\"\n",
    "folder_name = \"no_TADs_no_AB_compartments\"\n",
    "filtering_type = \"stringent_filtering_by_length_and_gc_content\"\n",
    "# \"stringent_filtering_by_length_and_gc_content_and_k27ac\" <- Normally would use this but there were no CMs passing the filtering.\n",
    "core_path = os.path.join(\n",
    "    \"/data/pushkare/Chromatin_modules/3.simulate_CMs/output\",\n",
    "    folder_name,\n",
    "    \"QC\",\n",
    "    filtering_type,\n",
    "    method,\n",
    ")\n",
    "\n",
    "if not os.path.exists(os.path.join(core_path, \"peaks\")):\n",
    "    os.makedirs(os.path.join(core_path, \"peaks\"))\n",
    "\n",
    "output_path = os.path.join(core_path, \"peaks\")"
   ]
  },
  {
   "cell_type": "code",
   "execution_count": 3,
   "id": "ca64cbc0",
   "metadata": {},
   "outputs": [],
   "source": [
    "for ref_sim in [\"ref\", \"sim\"]:\n",
    "    content_df = pd.read_csv(\n",
    "        os.path.join(\n",
    "            core_path,\n",
    "            \"_\".join(\n",
    "                [\n",
    "                    dataset,\n",
    "                    ref_sim,\n",
    "                    method,\n",
    "                    \"length_GC_content_filtering.content.txt\",\n",
    "                ]\n",
    "            ),\n",
    "        ),\n",
    "        sep=\"\\t\",\n",
    "        header=None,\n",
    "        names=[\"cm_id\", \"n_peaks\", \"peaks\"],\n",
    "    )\n",
    "    if not \"chr\" in content_df.iloc[0, 2].split(\",\")[0]:\n",
    "        for i in np.arange(1, 23):\n",
    "            content_df.iloc[:, 2] = content_df.iloc[:, 2].str.replace(\n",
    "                \":\" + str(i) + \":\", \":chr\" + str(i) + \":\"\n",
    "            )\n",
    "    cm_peak_dict = dict(\n",
    "        zip(\n",
    "            content_df.loc[:, \"cm_id\"].to_list(),\n",
    "            content_df.loc[:, \"peaks\"].str.split(\",\").to_list(),\n",
    "        )\n",
    "    )\n",
    "    peak_info_list = []\n",
    "    for cm_id, cm_peaks in cm_peak_dict.items():\n",
    "        for cm_peak in cm_peaks:\n",
    "            peak_info_list.append(cm_peak.split(\":\") + [cm_peak, cm_id])\n",
    "    peak_df = pd.DataFrame(\n",
    "        peak_info_list,\n",
    "        columns=[\"mark\", \"chromosome\", \"start\", \"end\", \"pid\", \"cm_id\"],\n",
    "    )\n",
    "    peak_df.drop(\"mark\", axis=1, inplace=True)\n",
    "    peak_df.loc[:, \"strand\"] = \"+\"\n",
    "    peak_df.to_csv(\n",
    "        os.path.join(output_path, \"_\".join([dataset, method, ref_sim, \"peaks.bed\"])),\n",
    "        sep=\"\\t\",\n",
    "        index=False,\n",
    "        header=False,\n",
    "    )"
   ]
  },
  {
   "cell_type": "code",
   "execution_count": null,
   "id": "58c42d3d",
   "metadata": {},
   "outputs": [],
   "source": []
  }
 ],
 "metadata": {
  "kernelspec": {
   "display_name": "Python-3.9.5",
   "language": "python",
   "name": "python3"
  },
  "language_info": {
   "codemirror_mode": {
    "name": "ipython",
    "version": 3
   },
   "file_extension": ".py",
   "mimetype": "text/x-python",
   "name": "python",
   "nbconvert_exporter": "python",
   "pygments_lexer": "ipython3",
   "version": "3.11.7"
  }
 },
 "nbformat": 4,
 "nbformat_minor": 5
}
