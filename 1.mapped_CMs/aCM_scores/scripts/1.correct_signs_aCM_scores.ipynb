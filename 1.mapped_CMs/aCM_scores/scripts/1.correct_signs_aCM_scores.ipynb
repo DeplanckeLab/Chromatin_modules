{
 "cells": [
  {
   "cell_type": "code",
   "execution_count": 1,
   "id": "120afd63",
   "metadata": {},
   "outputs": [
    {
     "name": "stderr",
     "output_type": "stream",
     "text": [
      "/usr/local/lib/python3.11/site-packages/tqdm/auto.py:21: TqdmWarning: IProgress not found. Please update jupyter and ipywidgets. See https://ipywidgets.readthedocs.io/en/stable/user_install.html\n",
      "  from .autonotebook import tqdm as notebook_tqdm\n"
     ]
    }
   ],
   "source": [
    "import numpy as np\n",
    "import os\n",
    "import pandas as pd\n",
    "import tqdm.auto as tqdm"
   ]
  },
  {
   "cell_type": "code",
   "execution_count": 2,
   "id": "341d0c13",
   "metadata": {},
   "outputs": [],
   "source": [
    "dataset = \"test_data\"\n",
    "methods = [\"vcmtools\", \"clomics\", \"phm\"]\n",
    "core_path = \"/data/pushkare/Chromatin_modules\"\n",
    "acm_scores_path = os.path.join(core_path, \"1.mapped_CMs\", \"aCM_scores\")\n",
    "cm_peak_path = os.path.join(core_path, \"2.peaks_in_CMs\", \"peak_files\")"
   ]
  },
  {
   "cell_type": "code",
   "execution_count": 3,
   "id": "3a807378",
   "metadata": {
    "scrolled": false
   },
   "outputs": [],
   "source": [
    "for method in methods:\n",
    "    acm_scores = pd.read_csv(\n",
    "        os.path.join(acm_scores_path, method, dataset, \"aCM_matrix\", \"aCM_matrix.bed\"),\n",
    "        sep=\"\\t\",\n",
    "    )\n",
    "    peak_counts = pd.read_csv(\n",
    "        os.path.join(\n",
    "            acm_scores_path,\n",
    "            method,\n",
    "            dataset,\n",
    "            \"_\".join([method, dataset, \"merged_count_matrix.bed\"]),\n",
    "        ),\n",
    "        sep=\"\\t\",\n",
    "    )\n",
    "\n",
    "    common_columns = list(\n",
    "        set(acm_scores.columns).intersection(set(peak_counts.columns))\n",
    "    )\n",
    "    acm_scores = acm_scores.loc[:, common_columns]\n",
    "    peak_counts = peak_counts.loc[:, common_columns]\n",
    "    peaks_in_cms = pd.read_csv(\n",
    "        os.path.join(\n",
    "            cm_peak_path,\n",
    "            \"_\".join([dataset, method, \"all_peaks.bed\"]),\n",
    "        ),\n",
    "        sep=\"\\t\",\n",
    "        header=None,\n",
    "        usecols=[3, 4],\n",
    "        names=[\"pid\", \"cm_id\"],\n",
    "    )\n",
    "\n",
    "    df_pids_per_cm = peaks_in_cms.groupby(\"cm_id\").agg(list)\n",
    "    peaks_in_cms_dict = dict(zip(df_pids_per_cm.index, df_pids_per_cm.pid))\n",
    "\n",
    "    acm_df_lst = []\n",
    "    for cm_id, cm_peaks in peaks_in_cms_dict.items():\n",
    "        cm_peak_counts = peak_counts.loc[peaks_in_cms_dict.get(cm_id), :]\n",
    "        min_sample = acm_scores.loc[cm_id, :].dropna().idxmin()\n",
    "        max_sample = acm_scores.loc[cm_id, :].dropna().idxmax()\n",
    "\n",
    "        n_greater_peaks = sum(\n",
    "            cm_peak_counts.loc[:, max_sample] > cm_peak_counts.loc[:, min_sample]\n",
    "        )\n",
    "        if n_greater_peaks < len(cm_peaks) / 2 + 0.5:\n",
    "            sign = -1\n",
    "        else:\n",
    "            sign = 1\n",
    "        acm_df_lst.append((acm_scores.loc[cm_id, :] * sign).to_frame().T)\n",
    "\n",
    "    acm_df_sign_corrected = pd.concat(acm_df_lst, axis=0)\n",
    "    acm_df_sign_corrected.to_csv(\n",
    "        os.path.join(\n",
    "            acm_scores_path,\n",
    "            method,\n",
    "            dataset,\n",
    "            \"aCM_matrix\",\n",
    "            \"sign_corrected_aCM_matrix.bed\",\n",
    "        ),\n",
    "        sep=\"\\t\",\n",
    "        index=True,\n",
    "        header=True,\n",
    "    )"
   ]
  }
 ],
 "metadata": {
  "kernelspec": {
   "display_name": "Python 3 (ipykernel)",
   "language": "python",
   "name": "python3"
  },
  "language_info": {
   "codemirror_mode": {
    "name": "ipython",
    "version": 3
   },
   "file_extension": ".py",
   "mimetype": "text/x-python",
   "name": "python",
   "nbconvert_exporter": "python",
   "pygments_lexer": "ipython3",
   "version": "3.11.7"
  }
 },
 "nbformat": 4,
 "nbformat_minor": 5
}
