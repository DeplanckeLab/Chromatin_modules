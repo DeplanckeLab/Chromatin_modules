{
 "cells": [
  {
   "cell_type": "code",
   "execution_count": 1,
   "metadata": {},
   "outputs": [],
   "source": [
    "import os\n",
    "import pandas as pd\n",
    "import utils"
   ]
  },
  {
   "cell_type": "code",
   "execution_count": 2,
   "metadata": {},
   "outputs": [],
   "source": [
    "dataset = \"test_data\"\n",
    "output_path = os.path.join(os.getcwd(), \"peak_files\")\n",
    "path_to_cms = \"../1.mapped_CMs\"\n",
    "\n",
    "pp_threshold = 0.8"
   ]
  },
  {
   "cell_type": "code",
   "execution_count": 3,
   "metadata": {},
   "outputs": [],
   "source": [
    "methods_dict = {\n",
    "    \"phm\": {\n",
    "        \"path_to_modules\": os.path.join(\n",
    "            path_to_cms, \"phm\", \"test_data_phm_tracks_content\"\n",
    "        ),\n",
    "        \"core_file_name\": {\n",
    "            \"all\": \"_\".join(\n",
    "                [dataset, str(pp_threshold), \"merged_phm_all_chr.content.txt\"]\n",
    "            ),\n",
    "            \"NOT_TOTEM\": \"_\".join(\n",
    "                [dataset, str(pp_threshold), \"merged_phm_all_chr_NOT_TOTEM.content.txt\"]\n",
    "            ),\n",
    "        },\n",
    "    },\n",
    "    \"vcmtools\": {\n",
    "        \"path_to_modules\": os.path.join(\n",
    "            path_to_cms, \"vcmtools\", \"VCMs\", \"0.5Mb\", \"test_data\"\n",
    "        ),\n",
    "        \"core_file_name\": {\n",
    "            \"all\": dataset + \"_all_VCMs_corrected_pvalue_0.001.content.txt\",\n",
    "            \"NOT_TOTEM\": dataset + \"_NOT_TOTEM_VCMs_corrected_pvalue_0.001.content.txt\",\n",
    "        },\n",
    "    },\n",
    "    \"clomics\": {\n",
    "        \"path_to_modules\": os.path.join(\n",
    "            path_to_cms, \"clomics\", \"n_peaks_200\", \"bg_threshold_3\", dataset\n",
    "        ),\n",
    "        \"core_file_name\": {\"all\": dataset + \"_Clomics_CM.content.txt\"},\n",
    "    },\n",
    "}"
   ]
  },
  {
   "cell_type": "code",
   "execution_count": 4,
   "metadata": {},
   "outputs": [],
   "source": [
    "marks_peaks_path = \"../0.input_peaks/peak_bed_files\"\n",
    "marks_dict = {\n",
    "    \"H3K4me1\": pd.read_csv(\n",
    "        os.path.join(marks_peaks_path, \"H3K4me1_all_peaks.bed\"), sep=\"\\t\", header=None\n",
    "    ),\n",
    "    \"H3K27ac\": pd.read_csv(\n",
    "        os.path.join(marks_peaks_path, \"H3K27ac_all_peaks.bed\"), sep=\"\\t\", header=None\n",
    "    ),\n",
    "}"
   ]
  },
  {
   "cell_type": "code",
   "execution_count": 5,
   "metadata": {},
   "outputs": [],
   "source": [
    "for method, method_param_dict in methods_dict.items():\n",
    "    input_path = method_param_dict.get(\"path_to_modules\")\n",
    "\n",
    "    for peak_type, file_path in method_param_dict.get(\"core_file_name\").items():\n",
    "\n",
    "        utils.read_CMs_and_store_peaks(\n",
    "            input_path,\n",
    "            file_path,\n",
    "            method,\n",
    "            dataset,\n",
    "            peak_type,\n",
    "            marks_dict,\n",
    "            output_path,\n",
    "        )"
   ]
  },
  {
   "cell_type": "code",
   "execution_count": 6,
   "metadata": {},
   "outputs": [],
   "source": [
    "for method, method_param_dict in methods_dict.items():\n",
    "    if method == \"clomics\":\n",
    "        continue\n",
    "    input_path = method_param_dict.get(\"path_to_modules\")\n",
    "\n",
    "    all_file_path = method_param_dict.get(\"core_file_name\").get(\"all\")\n",
    "    not_totem_file_path = method_param_dict.get(\"core_file_name\").get(\"NOT_TOTEM\")\n",
    "    utils.get_peaks_from_totem_CMs(\n",
    "        input_path,\n",
    "        method,\n",
    "        dataset,\n",
    "        all_file_path,\n",
    "        not_totem_file_path,\n",
    "        output_path,\n",
    "    )"
   ]
  },
  {
   "cell_type": "code",
   "execution_count": null,
   "metadata": {},
   "outputs": [],
   "source": []
  }
 ],
 "metadata": {
  "kernelspec": {
   "display_name": "usr",
   "language": "python",
   "name": "python3"
  },
  "language_info": {
   "codemirror_mode": {
    "name": "ipython",
    "version": 3
   },
   "file_extension": ".py",
   "mimetype": "text/x-python",
   "name": "python",
   "nbconvert_exporter": "python",
   "pygments_lexer": "ipython3",
   "version": "3.11.7"
  }
 },
 "nbformat": 4,
 "nbformat_minor": 2
}
