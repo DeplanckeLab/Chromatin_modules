{
 "cells": [
  {
   "cell_type": "code",
   "execution_count": 1,
   "id": "9325a5f4-243a-4efc-87ed-d2ccc4e75987",
   "metadata": {},
   "outputs": [],
   "source": [
    "import os\n",
    "import pandas as pd"
   ]
  },
  {
   "cell_type": "code",
   "execution_count": 2,
   "id": "79990114-c91c-4ad3-a2f9-0d3449bb9e72",
   "metadata": {},
   "outputs": [],
   "source": [
    "dataset = \"test_data\"\n",
    "add_marks = True\n",
    "chromosomes = [\"chr\" + str(i) for i in range(1, 23)]\n",
    "count_mtx_path = \"../\" + dataset"
   ]
  },
  {
   "cell_type": "code",
   "execution_count": 4,
   "id": "4915282e-5df6-47bb-9605-d5d4b15bbb1b",
   "metadata": {},
   "outputs": [],
   "source": [
    "def prepare_count_mtx(\n",
    "    count_mtx_path, file_name, mark, add_marks=True, save=False, output_folder=None\n",
    "):\n",
    "    count_mtx = pd.read_csv(\n",
    "        os.path.join(count_mtx_path, file_name),\n",
    "        sep=\"\\t\",\n",
    "        usecols=[\"#Chr\", \"start\", \"end\", \"pid\", \"gid\"],\n",
    "    )\n",
    "    if add_marks:\n",
    "        count_mtx.loc[:, \"mark\"] = mark\n",
    "    count_mtx = count_mtx.rename(columns={\"#Chr\": \"chr\"})\n",
    "    if not \"chr\" in str(count_mtx.iloc[0, 0]):\n",
    "        count_mtx.loc[:, \"chr\"] = \"chr\" + count_mtx.loc[:, \"chr\"].astype(str)\n",
    "    if not \"chr\" in count_mtx.loc[0, \"pid\"]:\n",
    "        count_mtx.loc[:, \"pid\"] = \"chr\" + count_mtx.loc[:, \"pid\"]\n",
    "    if not \"chr\" in count_mtx.loc[0, \"gid\"]:\n",
    "        count_mtx.loc[:, \"gid\"] = \"chr\" + count_mtx.loc[:, \"gid\"]\n",
    "    if add_marks:\n",
    "        count_mtx.loc[:, \"pid\"] = (\n",
    "            count_mtx.loc[:, \"mark\"] + \":\" + count_mtx.loc[:, \"pid\"]\n",
    "        )\n",
    "    count_mtx.loc[:, \"strand\"] = \"+\"\n",
    "    count_mtx = count_mtx.loc[count_mtx.loc[:, \"chr\"].isin(chromosomes), :]\n",
    "    count_mtx.loc[:, \"chr_int\"] = (\n",
    "        count_mtx.loc[:, \"chr\"].str.replace(\"chr\", \"\").astype(int)\n",
    "    )\n",
    "    count_mtx.loc[:, \"chr_str\"] = count_mtx.loc[:, \"chr\"].str.replace(\"chr\", \"\")\n",
    "    count_mtx = count_mtx.sort_values([\"chr_str\", \"start\"])[\n",
    "        [\"chr\", \"start\", \"end\", \"pid\", \"strand\"]\n",
    "    ]\n",
    "    if save:\n",
    "        if not os.path.exists(output_folder):\n",
    "            os.makedirs(output_folder)\n",
    "        count_mtx.to_csv(\n",
    "            os.path.join(\n",
    "                output_folder,\n",
    "                mark + \"_all_peaks.bed\",\n",
    "            ),\n",
    "            sep=\"\\t\",\n",
    "            header=False,\n",
    "            index=False,\n",
    "        )"
   ]
  },
  {
   "cell_type": "code",
   "execution_count": 5,
   "id": "c77be675-ffc0-4810-a6ad-c0d130498986",
   "metadata": {},
   "outputs": [],
   "source": [
    "prepare_count_mtx(\n",
    "    count_mtx_path=count_mtx_path,\n",
    "    file_name=\"H3K4me1_chr22.bed\",\n",
    "    mark=\"H3K4me1\",\n",
    "    add_marks=True,\n",
    "    save=True,\n",
    "    output_folder=\"./peak_bed_files\",\n",
    ")\n",
    "prepare_count_mtx(\n",
    "    count_mtx_path=count_mtx_path,\n",
    "    file_name=\"H3K27ac_chr22.bed\",\n",
    "    mark=\"H3K27ac\",\n",
    "    add_marks=True,\n",
    "    save=True,\n",
    "    output_folder=\"./peak_bed_files\",\n",
    ")"
   ]
  },
  {
   "cell_type": "code",
   "execution_count": 6,
   "id": "84ff5fe8",
   "metadata": {},
   "outputs": [],
   "source": [
    "k27ac = pd.read_csv(\n",
    "    os.path.join(\n",
    "        \"./peak_bed_files/H3K27ac_all_peaks.bed\",\n",
    "    ),\n",
    "    sep=\"\\t\",\n",
    "    header=None,\n",
    ")\n",
    "k4me1 = pd.read_csv(\n",
    "    os.path.join(\n",
    "        \"./peak_bed_files/H3K4me1_all_peaks.bed\",\n",
    "    ),\n",
    "    sep=\"\\t\",\n",
    "    header=None,\n",
    ")"
   ]
  },
  {
   "cell_type": "code",
   "execution_count": 9,
   "id": "ebd7d6ee",
   "metadata": {},
   "outputs": [],
   "source": [
    "all_peaks = pd.concat([k27ac, k4me1])\n",
    "all_peaks[\"chr_str\"] = all_peaks[0].str.replace(\"chr\", \"\")\n",
    "del all_peaks[\"chr_str\"]\n",
    "all_peaks.to_csv(\n",
    "    os.path.join(\n",
    "        \"./peak_bed_files/k27ac_k4me1_peaks.bed\",\n",
    "    ),\n",
    "    sep=\"\\t\",\n",
    "    header=False,\n",
    "    index=False,\n",
    ")"
   ]
  },
  {
   "cell_type": "code",
   "execution_count": 11,
   "id": "a12ca9a6",
   "metadata": {},
   "outputs": [],
   "source": [
    "assert all_peaks.shape[0] == k27ac.shape[0] + k4me1.shape[0]"
   ]
  }
 ],
 "metadata": {
  "kernelspec": {
   "display_name": "Python 3 (ipykernel)",
   "language": "python",
   "name": "python3"
  },
  "language_info": {
   "codemirror_mode": {
    "name": "ipython",
    "version": 3
   },
   "file_extension": ".py",
   "mimetype": "text/x-python",
   "name": "python",
   "nbconvert_exporter": "python",
   "pygments_lexer": "ipython3",
   "version": "2.7.-1"
  }
 },
 "nbformat": 4,
 "nbformat_minor": 5
}
