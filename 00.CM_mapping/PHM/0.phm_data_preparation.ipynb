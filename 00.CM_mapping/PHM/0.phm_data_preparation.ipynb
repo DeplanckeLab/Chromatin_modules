{
 "cells": [
  {
   "cell_type": "code",
   "execution_count": 1,
   "metadata": {},
   "outputs": [],
   "source": [
    "import glob\n",
    "import gzip\n",
    "import io\n",
    "import matplotlib.pyplot as plt\n",
    "import numpy as np\n",
    "import os\n",
    "import pandas as pd\n",
    "import rpy2.robjects as ro\n",
    "import sys\n",
    "import shutil\n",
    "import tqdm\n",
    "\n",
    "from os import listdir\n",
    "from rpy2.robjects.packages import importr\n",
    "\n",
    "%matplotlib inline"
   ]
  },
  {
   "cell_type": "markdown",
   "metadata": {},
   "source": [
    "**WARNING:** Prior to running this notebook, make sure to execute the code from 01.create_sample_dataset.ipynb from the test_data folder."
   ]
  },
  {
   "cell_type": "markdown",
   "metadata": {},
   "source": [
    "### Specify input/output directories"
   ]
  },
  {
   "cell_type": "code",
   "execution_count": 2,
   "metadata": {},
   "outputs": [],
   "source": [
    "# SPECIFY LOCAL PATHS\n",
    "core_path = '/data/pushkare/computational_paper/GITHUB'\n",
    "out_path = os.path.join(\n",
    "    core_path, '00.CM_mapping', 'PHM'\n",
    ")"
   ]
  },
  {
   "cell_type": "code",
   "execution_count": 3,
   "metadata": {},
   "outputs": [],
   "source": [
    "# Specify names of datasets to analyze\n",
    "# PHM input/output file will be stored there\n",
    "datasets = ['test_data']"
   ]
  },
  {
   "cell_type": "code",
   "execution_count": 2,
   "metadata": {},
   "outputs": [],
   "source": [
    "# Create dictionary with sample IDs per dataset\n",
    "vcf_samples_dict = {\n",
    "    dataset: pd.read_csv(\n",
    "        os.path.join(\n",
    "            core_path,\n",
    "            dataset,\n",
    "            'LCL_genotypes_chr21_chr22_samples.txt'\n",
    "        ),\n",
    "        sep='\\t',\n",
    "        header=None\n",
    "    )\n",
    "    for dataset in datasets\n",
    "}"
   ]
  },
  {
   "cell_type": "markdown",
   "metadata": {},
   "source": [
    "### Create necessary input files for PHM\n",
    "\n",
    "1. BED file with peak coordinates\n",
    "2. Binary file of normalized counts\n",
    "\n",
    "\\+ Store common samples between ChIP-seq and genotype data to ensure proper ordering of samples across data modalities"
   ]
  },
  {
   "cell_type": "code",
   "execution_count": 5,
   "metadata": {},
   "outputs": [],
   "source": [
    "for dataset in datasets:\n",
    "    # Create output path\n",
    "    output_path = os.path.join(\n",
    "        out_path,\n",
    "        dataset,\n",
    "        'phm_results'\n",
    "    )\n",
    "    if not os.path.exists(output_path):\n",
    "        os.makedirs(output_path)\n",
    "    \n",
    "    # Read in count matrices\n",
    "    \n",
    "    count_mtx_path = os.path.join(\n",
    "        core_path,\n",
    "        dataset\n",
    "    )  # CHANGE PATHS\n",
    "    count_mtx_k4me1 = pd.read_csv(\n",
    "        os.path.join(\n",
    "            count_mtx_path,\n",
    "            'H3K4me1_chr21_chr22.bed'\n",
    "        ),\n",
    "        sep='\\t'\n",
    "    )\n",
    "    count_mtx_k4me1['mark'] = 'H3K4me1'\n",
    "\n",
    "    count_mtx_k27ac = pd.read_csv(\n",
    "        os.path.join(\n",
    "            count_mtx_path,\n",
    "            'H3K27ac_chr21_chr22.bed'\n",
    "        ),\n",
    "        sep='\\t'\n",
    "    )\n",
    "    count_mtx_k27ac['mark'] = 'H3K27ac'\n",
    "\n",
    "    all_peaks_mtx = pd.concat([count_mtx_k4me1, count_mtx_k27ac])\n",
    "    all_peaks_mtx = all_peaks_mtx.sort_values(['#Chr', 'start'])\n",
    "    all_peaks_mtx = all_peaks_mtx.rename(columns={'#Chr': '#chr'})\n",
    "    \n",
    "    all_peaks_mtx['Peak'] = np.arange(1, all_peaks_mtx.shape[0] + 1)\n",
    "    \n",
    "    all_peaks_mtx = all_peaks_mtx.astype({'start': int, 'end': int})\n",
    "    all_peaks_mtx = all_peaks_mtx.dropna(axis='columns')\n",
    "    \n",
    "    chromosomes = list(\n",
    "        set(all_peaks_mtx.loc[:, '#chr']) - set(['chrX', 'chrY', 'chrM', 'X', 'Y', 'M'])\n",
    "    )\n",
    "    if not all([isinstance(el, str) for el in chromosomes]):\n",
    "        sys.exit('Chromosome IDs have different types! Standardize the format')\n",
    "    \n",
    "    if 'chr' in str(chromosomes[0]):\n",
    "        suffix = ''\n",
    "    else:\n",
    "        suffix = 'chr'\n",
    "    \n",
    "    final_samples = sorted(list(\n",
    "        set(all_peaks_mtx.columns).intersection(set(vcf_samples_dict[dataset].iloc[:, 0]))\n",
    "    ))\n",
    "    # Store only common samples between ChIP-seq and genotype data\n",
    "    pd.DataFrame(final_samples).to_csv(\n",
    "        os.path.join(\n",
    "            out_path,\n",
    "            dataset,\n",
    "            dataset + '_LCL_chr21_chr22_samples.txt'\n",
    "        ),\n",
    "        sep='\\t',\n",
    "        index=False,\n",
    "        header=False\n",
    "    )\n",
    "    \n",
    "    first_cols = ['#chr', 'start', 'end', 'pid', 'gid', 'strand']\n",
    "    last_cols = ['mark', 'Peak']\n",
    "    ordered_cols = first_cols + final_samples + last_cols\n",
    "    columns_for_tsv = ['Peak'] + final_samples\n",
    "    \n",
    "    count_matrix = all_peaks_mtx.loc[:, ordered_cols].copy()\n",
    "\n",
    "    count_matrices_by_chromosome_dict = {\n",
    "        suffix + str(chromosome): chromosome_count_matrix.sort_values('start')\n",
    "        for chromosome, chromosome_count_matrix in count_matrix.groupby('#chr')\n",
    "        if chromosome in chromosomes\n",
    "    }\n",
    "\n",
    "    for chromosome, chromosome_count_matrix in count_matrices_by_chromosome_dict.items():\n",
    "        if (chromosome != 'chrX') and (chromosome != 'chrY') and (chromosome != 'chrM'):\n",
    "            path = os.path.join(output_path, str(chromosome))\n",
    "            if not os.path.exists(os.path.join(path, 'hm_output'))\\\n",
    "            and not os.path.exists(os.path.join(path, 'phm_output')):\n",
    "                os.makedirs(os.path.join(path, 'hm_output'))\n",
    "                os.makedirs(os.path.join(path, 'phm_output'))\n",
    "            chromosome_count_matrix['Peak'] = np.arange(\n",
    "                1, \n",
    "                chromosome_count_matrix.shape[0] + 1\n",
    "            )\n",
    "            chromosome_count_matrix_for_tsv = chromosome_count_matrix[columns_for_tsv]\n",
    "\n",
    "            # Create .bed file with peak coordinates\n",
    "            if type(chromosome_count_matrix['#chr'].iloc[0]) != int:\n",
    "                chromosome_count_matrix['#chr'] = chromosome_count_matrix['#chr'].str.replace('chr', '')\n",
    "                chromosome_count_matrix['#chr'] = chromosome_count_matrix['#chr'].astype(int)\n",
    "            chromosome_count_matrix[['#chr', 'start', 'end', 'mark']].to_csv(\n",
    "                os.path.join(\n",
    "                    path,\n",
    "                    chromosome + '_peak_coordinates.bed'),\n",
    "                sep='\\t',\n",
    "                index=False,\n",
    "                header=False)\n",
    "\n",
    "            # Create a binary file from normalized counts\n",
    "            records_array = chromosome_count_matrix[final_samples].to_records(index=False)\n",
    "            records_array.tofile(\n",
    "                os.path.join(\n",
    "                    path,\n",
    "                    'normalized_counts_' + chromosome + '.bin'))"
   ]
  },
  {
   "cell_type": "markdown",
   "metadata": {},
   "source": [
    "### Make sure the columns in VCF file are orderded in the same way as in the count matrices:"
   ]
  },
  {
   "cell_type": "code",
   "execution_count": 6,
   "metadata": {},
   "outputs": [],
   "source": [
    "%%bash\n",
    "datasets=( \"test_data\" );\n",
    "core_path=/data/pushkare/computational_paper/GITHUB/00.CM_mapping/PHM; ## CHANGE PATH\n",
    "\n",
    "for dataset in ${datasets[*]}\n",
    "do\n",
    "    bcftools view \\\n",
    "        -S ${core_path}/${dataset}/${dataset}_LCL_chr21_chr22_samples.txt \\ ## PATH TO FILE WITH SAMPLES\n",
    "        /data/pushkare/computational_paper/GITHUB/${dataset}/LCL_genotypes_chr21_chr22.vcf.gz \\  ## PATH TO VCF FILE\n",
    "        > ${core_path}/${dataset}/${dataset}_LCL_chr21_chr22_sample_intersection.vcf  ## OUTPUT VCF FILE\n",
    "    \n",
    "    bgzip ${core_path}/${dataset}/${dataset}_LCL_chr21_chr22_sample_intersection.vcf\n",
    "    tabix -p vcf ${core_path}/${dataset}/${dataset}_LCL_chr21_chr22_sample_intersection.vcf.gz\n",
    "done\n"
   ]
  },
  {
   "cell_type": "markdown",
   "metadata": {},
   "source": [
    "### Compresses and index files per chromosome, per dataset"
   ]
  },
  {
   "cell_type": "code",
   "execution_count": 7,
   "metadata": {},
   "outputs": [],
   "source": [
    "%%bash\n",
    "datasets=( \"test_data\" );\n",
    "core_path=/data/pushkare/computational_paper/GITHUB/00.CM_mapping/PHM;  ## CHANGE PATH\n",
    "input_vcf=${core_path}/${dataset}/${dataset}_LCL_chr21_chr22_sample_intersection.vcf.gz\n",
    "\n",
    "for dataset in ${datasets[*]}\n",
    "do\n",
    "    cd ${core_path}/${dataset}/phm_results\n",
    "    for chromosome_dir in */\n",
    "    do  \n",
    "        ## Use VCF file obtained at the previous step\n",
    "        input_vcf=${core_path}/${dataset}/${dataset}_LCL_chr21_chr22_sample_intersection.vcf.gz ## CHANGE PATH\n",
    "        ## Subset a chromosome from VCF file\n",
    "        tabix \\\n",
    "            ${input_vcf} \\\n",
    "            ${chromosome_dir%/} \\\n",
    "            > ${chromosome_dir%/}/${dataset}_${chromosome_dir%/}.vcf\n",
    "\n",
    "        awk '{gsub(/^chr/,\"\"); print}' ${chromosome_dir%/}/${dataset}_${chromosome_dir%/}.vcf \\\n",
    "        > ${chromosome_dir%/}/${dataset}_${chromosome_dir%/}_no_chr.vcf\n",
    "        \n",
    "        ## Compress and index BED, VCF files\n",
    "        for filename in ${chromosome_dir%/}/*.bed\n",
    "        do\n",
    "            bgzip $filename\n",
    "            tabix -p bed $filename.gz\n",
    "        done\n",
    "\n",
    "        for filename in ${chromosome_dir%/}/*.vcf\n",
    "        do\n",
    "            bgzip $filename\n",
    "            tabix -p vcf $filename.gz\n",
    "        done\n",
    "    done\n",
    "done\n",
    "\n",
    "\n",
    "## if genotypes do not contain \"chr\", replace lines 11-14 with\n",
    "## chr_id=${chromosome_dir//\"chr\"/}\n",
    "## tabix \\\n",
    "##     ${core_path}/${dataset}/${dataset}_sample_intersection.vcf.gz \\\n",
    "##     ${chr_id%/} \\\n",
    "##     > ${chromosome_dir%/}/${dataset}_${chromosome_dir%/}.vcf"
   ]
  },
  {
   "cell_type": "code",
   "execution_count": 8,
   "metadata": {},
   "outputs": [
    {
     "name": "stdout",
     "output_type": "stream",
     "text": [
      "DONE\n"
     ]
    }
   ],
   "source": [
    "print('DONE')"
   ]
  },
  {
   "cell_type": "code",
   "execution_count": null,
   "metadata": {},
   "outputs": [],
   "source": []
  }
 ],
 "metadata": {
  "kernelspec": {
   "display_name": "Python 3 (ipykernel)",
   "language": "python",
   "name": "python3"
  },
  "language_info": {
   "codemirror_mode": {
    "name": "ipython",
    "version": 3
   },
   "file_extension": ".py",
   "mimetype": "text/x-python",
   "name": "python",
   "nbconvert_exporter": "python",
   "pygments_lexer": "ipython3",
   "version": "3.9.5"
  }
 },
 "nbformat": 4,
 "nbformat_minor": 2
}
