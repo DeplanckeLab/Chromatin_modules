{
 "cells": [
  {
   "cell_type": "code",
   "execution_count": 1,
   "id": "697b8127",
   "metadata": {},
   "outputs": [],
   "source": [
    "import numpy as np\n",
    "import pandas as pd\n",
    "import os"
   ]
  },
  {
   "cell_type": "code",
   "execution_count": 2,
   "id": "480820a3",
   "metadata": {},
   "outputs": [],
   "source": [
    "core_path = \"/data/pushkare/Chromatin_modules/genome_annotations/TADs_AB_compartments\"\n",
    "data_path = os.path.join(core_path, \"NCBI_data\")"
   ]
  },
  {
   "cell_type": "code",
   "execution_count": 3,
   "id": "3787f73d",
   "metadata": {},
   "outputs": [],
   "source": [
    "tads = pd.read_csv(\n",
    "    os.path.join(\n",
    "        data_path, \"GSE63525_GM12878_primary+replicate_Arrowhead_domainlist.txt.gz\"\n",
    "    ),\n",
    "    sep=\"\\t\",\n",
    ")\n",
    "ab_comp = pd.read_csv(\n",
    "    os.path.join(data_path, \"GSE63525_GM12878_subcompartments.bed.gz\"),\n",
    "    sep=\"\\t\",\n",
    "    header=None,\n",
    ")\n",
    "if not \"chr\" in str(ab_comp.iloc[0, 0]):\n",
    "    ab_comp.iloc[:, 0] = \"chr\" + ab_comp.iloc[:, 0].astype(str)\n",
    "\n",
    "tads = tads.loc[:, [\"chr1\", \"x1\", \"x2\"]].copy()\n",
    "tads = tads.sort_values([\"chr1\", \"x1\"])\n",
    "tads.loc[:, \"tad_id\"] = np.arange(tads.shape[0])\n",
    "tads.loc[:, \"tad_id\"] = \"tad_\" + tads.loc[:, \"tad_id\"].astype(str)\n",
    "if not \"chr\" in str(tads.loc[0, \"chr1\"]):\n",
    "    tads.loc[:, \"chr1\"] = \"chr\" + tads.loc[:, \"chr1\"].astype(str)"
   ]
  },
  {
   "cell_type": "code",
   "execution_count": 4,
   "id": "52fd80df",
   "metadata": {},
   "outputs": [],
   "source": [
    "tads.to_csv(\n",
    "    os.path.join(core_path, \"GSE63525_GM12878_TADs_with_chr.bed\"),\n",
    "    sep=\"\\t\",\n",
    "    index=False,\n",
    "    header=False,\n",
    ")\n",
    "ab_comp.loc[:, [0, 1, 2, 3]].dropna().to_csv(\n",
    "    os.path.join(core_path, \"GSE63525_GM12878_AB_compartments_with_chr.bed\"),\n",
    "    sep=\"\\t\",\n",
    "    index=False,\n",
    "    header=False,\n",
    ")"
   ]
  },
  {
   "cell_type": "code",
   "execution_count": 5,
   "id": "06467a2c",
   "metadata": {},
   "outputs": [],
   "source": [
    "tads.loc[:, \"chr1\"] = tads.loc[:, \"chr1\"].str.replace(\"chr\", \"\")\n",
    "tads.to_csv(\n",
    "    os.path.join(core_path, \"GSE63525_GM12878_TADs.bed\"),\n",
    "    sep=\"\\t\",\n",
    "    index=False,\n",
    "    header=False,\n",
    ")\n",
    "ab_comp.iloc[:, 0] = ab_comp.iloc[:, 0].str.replace(\"chr\", \"\")\n",
    "ab_comp.loc[:, [0, 1, 2, 3]].dropna().to_csv(\n",
    "    os.path.join(core_path, \"GSE63525_GM12878_AB_compartments.bed\"),\n",
    "    sep=\"\\t\",\n",
    "    index=False,\n",
    "    header=False,\n",
    ")"
   ]
  },
  {
   "cell_type": "markdown",
   "id": "cdd42b40",
   "metadata": {},
   "source": [
    "### Overlap peaks with AB compartments and TADs"
   ]
  },
  {
   "cell_type": "code",
   "execution_count": 8,
   "id": "f499eca9",
   "metadata": {},
   "outputs": [],
   "source": [
    "%%bash\n",
    "core_path=\"/data/pushkare/Chromatin_modules/genome_annotations/TADs_AB_compartments\";\n",
    "mkdir -p ${core_path}/peak_overlaps/\n",
    "\n",
    "cm_peaks_path=\"/data/pushkare/Chromatin_modules/2.peaks_in_CMs/peak_files\";\n",
    "\n",
    "methods=( \"vcmtools\" \"clomics\" \"phm\" );\n",
    "dataset=\"test_data\";\n",
    "for method in ${methods[*]}\n",
    "do  \n",
    "    mkdir -p ${core_path}/peak_overlaps/${method}\n",
    "    ## Overlap chromatin module peaks\n",
    "    bedtools intersect -wo \\\n",
    "        -a ${cm_peaks_path}/${dataset}_${method}_all_peaks.bed \\\n",
    "        -b ${core_path}/GSE63525_GM12878_AB_compartments_with_chr.bed \\\n",
    "        > ${core_path}/peak_overlaps/${method}/${dataset}_AB_cm_peaks_overlap.bed\n",
    "    bedtools intersect -wo \\\n",
    "        -a ${cm_peaks_path}/${dataset}_not_${method}_peaks.bed \\\n",
    "        -b ${core_path}/GSE63525_GM12878_AB_compartments_with_chr.bed \\\n",
    "        > ${core_path}/peak_overlaps/${method}/${dataset}_AB_not_cm_peaks_overlap.bed\n",
    "    \n",
    "    ## Overlap chromatin module peaks\n",
    "    bedtools intersect -wo \\\n",
    "        -a ${cm_peaks_path}/${dataset}_${method}_all_peaks.bed \\\n",
    "        -b ${core_path}/GSE63525_GM12878_TADs_with_chr.bed \\\n",
    "        > ${core_path}/peak_overlaps/${method}/${dataset}_TADs_cm_peaks_overlap.bed\n",
    "    bedtools intersect -wo \\\n",
    "        -a ${cm_peaks_path}/${dataset}_not_${method}_peaks.bed \\\n",
    "        -b ${core_path}/GSE63525_GM12878_TADs_with_chr.bed \\\n",
    "        > ${core_path}/peak_overlaps/${method}/${dataset}_TADs_not_cm_peaks_overlap.bed\n",
    "done"
   ]
  },
  {
   "cell_type": "markdown",
   "id": "fd8e1351",
   "metadata": {},
   "source": [
    "#### Overlap CMs with AB compartments and TADs"
   ]
  },
  {
   "cell_type": "code",
   "execution_count": 7,
   "id": "8f0bef37",
   "metadata": {},
   "outputs": [],
   "source": [
    "%%bash\n",
    "core_path=\"/data/pushkare/Chromatin_modules/genome_annotations/TADs_AB_compartments\";\n",
    "\n",
    "core_cm_path=\"/data/pushkare/Chromatin_modules/1.mapped_CMs\";\n",
    "methods=( \"vcmtools\" \"clomics\" \"phm\" );\n",
    "dataset=\"test_data\";\n",
    "\n",
    "pp_threshold=\"0.8\";\n",
    "\n",
    "for method in ${methods[*]}\n",
    "do  \n",
    "    mkdir -p ${core_path}/cm_overlaps/${method};\n",
    "    if [ ${method} == \"phm\" ]\n",
    "    then\n",
    "        tracks_bed=${core_cm_path}/${method}/${dataset}_phm_tracks_content/${dataset}_${pp_threshold}_merged_phm_all_chr.tracks.bed;\n",
    "        AB_file=${core_path}/GSE63525_GM12878_AB_compartments.bed;\n",
    "        TAD_file=${core_path}/GSE63525_GM12878_TADs.bed;\n",
    "    elif [ ${method} == \"vcmtools\" ]\n",
    "    then\n",
    "        tracks_bed=${core_cm_path}/${method}/VCMs/0.5Mb/test_data/${dataset}_all_VCMs_corrected_pvalue_0.001.tracks.bed;\n",
    "        AB_file=${core_path}/GSE63525_GM12878_AB_compartments_with_chr.bed;\n",
    "        TAD_file=${core_path}/GSE63525_GM12878_TADs_with_chr.bed;\n",
    "    else\n",
    "        tracks_bed=${core_cm_path}/${method}/n_peaks_200/bg_threshold_3/${dataset}/${dataset}_Clomics_CM.tracks.bed;\n",
    "        AB_file=${core_path}/GSE63525_GM12878_AB_compartments.bed;\n",
    "        TAD_file=${core_path}/GSE63525_GM12878_TADs.bed;\n",
    "    fi\n",
    "\n",
    "    ## Overlap chromatin module peaks\n",
    "    bedtools intersect -wo \\\n",
    "        -a ${tracks_bed} \\\n",
    "        -b ${AB_file} \\\n",
    "        > ${core_path}/cm_overlaps/${method}/${dataset}_AB_cm_tracks_overlap.bed\n",
    "    \n",
    "    bedtools intersect -wo \\\n",
    "        -a ${tracks_bed} \\\n",
    "        -b ${TAD_file} \\\n",
    "        > ${core_path}/cm_overlaps/${method}/${dataset}_TADs_cm_tracks_overlap.bed\n",
    "done"
   ]
  },
  {
   "cell_type": "code",
   "execution_count": 11,
   "id": "d6fe5ae1",
   "metadata": {},
   "outputs": [
    {
     "name": "stdout",
     "output_type": "stream",
     "text": [
      "DONE!\n"
     ]
    }
   ],
   "source": [
    "print(\"DONE!\")"
   ]
  },
  {
   "cell_type": "code",
   "execution_count": null,
   "id": "e944e89e",
   "metadata": {},
   "outputs": [],
   "source": []
  }
 ],
 "metadata": {
  "kernelspec": {
   "display_name": "Python-3.9.5",
   "language": "python",
   "name": "python3"
  },
  "language_info": {
   "codemirror_mode": {
    "name": "ipython",
    "version": 3
   },
   "file_extension": ".py",
   "mimetype": "text/x-python",
   "name": "python",
   "nbconvert_exporter": "python",
   "pygments_lexer": "ipython3",
   "version": "3.11.7"
  }
 },
 "nbformat": 4,
 "nbformat_minor": 5
}
