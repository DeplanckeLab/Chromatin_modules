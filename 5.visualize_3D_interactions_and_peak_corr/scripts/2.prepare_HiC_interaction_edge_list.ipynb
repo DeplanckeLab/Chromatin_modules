{
 "cells": [
  {
   "cell_type": "code",
   "execution_count": 1,
   "metadata": {},
   "outputs": [
    {
     "name": "stderr",
     "output_type": "stream",
     "text": [
      "/usr/local/lib/python3.11/site-packages/tqdm/auto.py:21: TqdmWarning: IProgress not found. Please update jupyter and ipywidgets. See https://ipywidgets.readthedocs.io/en/stable/user_install.html\n",
      "  from .autonotebook import tqdm as notebook_tqdm\n"
     ]
    }
   ],
   "source": [
    "import cooler\n",
    "import itertools\n",
    "import matplotlib.pyplot as plt\n",
    "import multiprocessing as mp\n",
    "import numpy as np\n",
    "import os\n",
    "import pandas as pd\n",
    "import random\n",
    "import scipy\n",
    "import scipy.stats as stats\n",
    "import sys\n",
    "import tqdm.auto as tqdm\n",
    "\n",
    "sys.path.append(\n",
    "    os.path.abspath(\n",
    "        os.path.join(\n",
    "            \"/data/pushkare/Chromatin_modules/4.quantify_3D_interactions\", \"src\"\n",
    "        )\n",
    "    )\n",
    ")\n",
    "from HiCM import HiCM\n",
    "import utils\n",
    "\n",
    "random.seed(42)"
   ]
  },
  {
   "cell_type": "code",
   "execution_count": 2,
   "metadata": {},
   "outputs": [],
   "source": [
    "save_files = True\n",
    "resolutions = [500, 1000]\n",
    "interaction_type = \"HiC\"\n",
    "dataset = \"test_data\"\n",
    "hic_data = \"GM12878\"\n",
    "\n",
    "core_path = \"/data/pushkare/Chromatin_modules\"  ## change path\n",
    "path_to_cm_peaks = os.path.join(core_path, \"2.peaks_in_CMs\")\n",
    "\n",
    "count_mtx_path = os.path.join(core_path, \"test_data\")\n",
    "chr_sizes_path = os.path.join(core_path, \"genome_annotations\", \"chr_sizes_hg19.txt\")\n",
    "\n",
    "path_to_3d_data = os.path.join(\n",
    "    \"/data/pushkare/computational_paper\",\n",
    "    \"08.3D_interactions_of_CREs_in_chromatin_modules\",\n",
    "    \"3D_chromatin_data\",\n",
    "    interaction_type,\n",
    ")\n",
    "\n",
    "if interaction_type == \"HiC\":\n",
    "    cool_dict = {\n",
    "        \"500bp\": path_to_3d_data + \"_500bp/LCL_mega_42B_500bp_30_cool.cool\",\n",
    "        \"1kb\": os.path.join(\n",
    "            path_to_3d_data,\n",
    "            \"Rao2014-\" + hic_data + \"-MboI-allreps-filtered.1kb.cool\",\n",
    "        ),\n",
    "    }\n",
    "elif interaction_type == \"MicroC\":\n",
    "    cool_dict = {\n",
    "        \"500bp\": os.path.join(path_to_3d_data, \"microc_800m_500bp.cool\"),\n",
    "        \"1kb\": os.path.join(path_to_3d_data, \"microc_800m_1kb.cool\"),\n",
    "    }\n",
    "\n",
    "\n",
    "output_path = os.path.join(\n",
    "    \"/data/pushkare/computational_paper/06.peak_based_3D_interactions_and_correlations\",\n",
    ")"
   ]
  },
  {
   "cell_type": "code",
   "execution_count": 5,
   "metadata": {
    "scrolled": true
   },
   "outputs": [
    {
     "name": "stderr",
     "output_type": "stream",
     "text": [
      "/tmp/ipykernel_22012/2684410377.py:13: FutureWarning: Setting an item of incompatible dtype is deprecated and will raise in a future error of pandas. Value '['22' '22' '22' ... '22' '22' '22']' has dtype incompatible with int64, please explicitly cast to a compatible dtype first.\n",
      "  df.loc[:, \"#Chr\"] = df.loc[:, \"#Chr\"].astype(str)\n",
      "/tmp/ipykernel_22012/2684410377.py:13: FutureWarning: Setting an item of incompatible dtype is deprecated and will raise in a future error of pandas. Value '['22' '22' '22' ... '22' '22' '22']' has dtype incompatible with int64, please explicitly cast to a compatible dtype first.\n",
      "  df.loc[:, \"#Chr\"] = df.loc[:, \"#Chr\"].astype(str)\n"
     ]
    }
   ],
   "source": [
    "chromosomes = [\"22\"]\n",
    "count_matrices = {\n",
    "    \"H3K4me1\": os.path.join(count_mtx_path, \"H3K4me1_chr22.bed\"),\n",
    "    \"H3K27ac\": os.path.join(count_mtx_path, \"H3K27ac_chr22.bed\"),\n",
    "}\n",
    "\n",
    "mark_dfs_lst = []\n",
    "for mark, count_mtx_path in count_matrices.items():\n",
    "    df = pd.read_csv(\n",
    "        count_mtx_path,\n",
    "        sep=\"\\t\",\n",
    "    )\n",
    "    df.loc[:, \"#Chr\"] = df.loc[:, \"#Chr\"].astype(str)\n",
    "    df.loc[:, \"#Chr\"] = df.loc[:, \"#Chr\"].str.replace(\"chr\", \"\")\n",
    "    df.loc[:, \"pid\"] = df.loc[:, \"pid\"].str.replace(\"chr\", \"\")\n",
    "    df = df.loc[:, [\"#Chr\", \"start\", \"end\", \"pid\"]]\n",
    "    df.columns = [\"chr\", \"start\", \"end\", \"pid\"]\n",
    "    mark_dfs_lst.append(df)\n",
    "full_mark_df = pd.concat(mark_dfs_lst, axis=0)\n",
    "full_mark_df = full_mark_df.loc[full_mark_df.loc[:, \"chr\"].isin(chromosomes), :]\n",
    "chr_peak_dict = {\n",
    "    chromosome: chr_df for chromosome, chr_df in full_mark_df.groupby(\"chr\")\n",
    "}"
   ]
  },
  {
   "cell_type": "markdown",
   "metadata": {},
   "source": [
    "### Extract Hi-C interactions per peak"
   ]
  },
  {
   "cell_type": "code",
   "execution_count": 7,
   "metadata": {},
   "outputs": [],
   "source": [
    "target_regions = pd.DataFrame(\n",
    "    [\n",
    "        [\n",
    "            \"chr22\",\n",
    "            23349145,\n",
    "            23692745,\n",
    "            \"chr22_23349145_23692745_BCR\",  # B cell receptor\n",
    "            \"crd76\",\n",
    "            \"\",\n",
    "            \"\",\n",
    "        ]\n",
    "    ],\n",
    "    columns=[\"chr_id\", \"start\", \"end\", \"pid\", \"cm_id\", \"rs_id\", \"LD_rs_ids\"],\n",
    ")"
   ]
  },
  {
   "cell_type": "code",
   "execution_count": 8,
   "metadata": {},
   "outputs": [
    {
     "name": "stderr",
     "output_type": "stream",
     "text": [
      "  0%|          | 0/1 [00:00<?, ?it/s]"
     ]
    },
    {
     "name": "stderr",
     "output_type": "stream",
     "text": [
      "100%|██████████| 1/1 [09:20<00:00, 560.20s/it]\n",
      "100%|██████████| 1/1 [04:26<00:00, 266.26s/it]\n"
     ]
    }
   ],
   "source": [
    "if not os.path.exists(os.path.join(output_path, \"3D_correlations\", dataset)):\n",
    "    os.makedirs(os.path.join(output_path, \"3D_correlations\", dataset))\n",
    "for resolution in resolutions:\n",
    "    if resolution == 500:\n",
    "        res_str = \"500bp\"\n",
    "    elif resolution == 1000:\n",
    "        res_str = \"1kb\"\n",
    "    elif resolution == 5000:\n",
    "        res_str = \"5kb\"\n",
    "\n",
    "    cool_file = cool_dict.get(res_str)\n",
    "    cool_mtx = cooler.Cooler(cool_file)\n",
    "    hiCM = HiCM(cool_mtx=cool_mtx, resolution=resolution, chr_sizes_path=chr_sizes_path)\n",
    "    myfile = open(\n",
    "        os.path.join(\n",
    "            output_path,\n",
    "            \"3D_correlations\",\n",
    "            dataset,\n",
    "            \"_\".join(\n",
    "                [\n",
    "                    dataset,\n",
    "                    \"peak_based_average\",\n",
    "                    interaction_type,\n",
    "                    \"interactions\",\n",
    "                    str(resolution) + \"bp.txt\",\n",
    "                ]\n",
    "            ),\n",
    "        ),\n",
    "        \"a\",\n",
    "    )\n",
    "    for chromosome, start, end, region_id, _, gene_symbol, _ in tqdm.tqdm(\n",
    "        target_regions.values\n",
    "    ):\n",
    "        chr_df = chr_peak_dict.get(chromosome.replace(\"chr\", \"\"))\n",
    "        peaks_in_query = chr_df.loc[\n",
    "            (chr_df.loc[:, \"start\"] >= start) & (chr_df.loc[:, \"end\"] <= end), \"pid\"\n",
    "        ].to_list()\n",
    "        for i, peak1 in enumerate(peaks_in_query):\n",
    "            peak1_variables = peak1.split(\":\")\n",
    "            chromosome1 = peak1_variables[0].replace(\"chr\", \"\")\n",
    "            peak1_start = int(peak1_variables[1])\n",
    "            peak1_end = int(peak1_variables[2])\n",
    "            for peak2 in peaks_in_query[i + 1 :]:\n",
    "                peak2_variables = peak2.split(\":\")\n",
    "                chromosome2 = peak2_variables[0].replace(\"chr\", \"\")\n",
    "                peak2_start = int(peak2_variables[1])\n",
    "                peak2_end = int(peak2_variables[2])\n",
    "                if peak1 != peak2:\n",
    "                    avg_frequencies = hiCM.get_peak_interactions(\n",
    "                        chromosome1,\n",
    "                        sorted([[peak1_start, peak1_end], [peak2_start, peak2_end]]),\n",
    "                        drop_zeros=True,\n",
    "                    )\n",
    "                    myfile.write(\n",
    "                        \"\\t\".join(\n",
    "                            [\n",
    "                                str(chromosome1),\n",
    "                                str(peak1_start),\n",
    "                                str(peak1_end),\n",
    "                                peak1,\n",
    "                                str(chromosome2),\n",
    "                                str(peak2_start),\n",
    "                                str(peak2_end),\n",
    "                                peak2,\n",
    "                                str(avg_frequencies) + \"\\n\",\n",
    "                            ]\n",
    "                        )\n",
    "                    )\n",
    "    myfile.close()"
   ]
  },
  {
   "cell_type": "code",
   "execution_count": 9,
   "metadata": {},
   "outputs": [
    {
     "name": "stdout",
     "output_type": "stream",
     "text": [
      "DONE!\n"
     ]
    }
   ],
   "source": [
    "print(\"DONE!\")"
   ]
  }
 ],
 "metadata": {
  "kernelspec": {
   "display_name": "Python-3.9.5",
   "language": "python",
   "name": "python3"
  },
  "language_info": {
   "codemirror_mode": {
    "name": "ipython",
    "version": 3
   },
   "file_extension": ".py",
   "mimetype": "text/x-python",
   "name": "python",
   "nbconvert_exporter": "python",
   "pygments_lexer": "ipython3",
   "version": "3.11.7"
  }
 },
 "nbformat": 4,
 "nbformat_minor": 2
}
